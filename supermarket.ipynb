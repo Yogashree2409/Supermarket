{
 "cells": [
  {
   "cell_type": "code",
   "execution_count": 23,
   "id": "94fc292b",
   "metadata": {},
   "outputs": [
    {
     "name": "stdout",
     "output_type": "stream",
     "text": [
      "<class 'pandas.core.frame.DataFrame'>\n",
      "RangeIndex: 8523 entries, 0 to 8522\n",
      "Data columns (total 12 columns):\n",
      " #   Column                     Non-Null Count  Dtype  \n",
      "---  ------                     --------------  -----  \n",
      " 0   Item_Identifier            8523 non-null   object \n",
      " 1   Item_Weight                7060 non-null   float64\n",
      " 2   Item_Fat_Content           8523 non-null   object \n",
      " 3   Item_Visibility            8523 non-null   float64\n",
      " 4   Item_Type                  8523 non-null   object \n",
      " 5   Item_MRP                   8523 non-null   float64\n",
      " 6   Outlet_Identifier          8523 non-null   object \n",
      " 7   Outlet_Establishment_Year  8523 non-null   int64  \n",
      " 8   Outlet_Size                6113 non-null   object \n",
      " 9   Outlet_Location_Type       8523 non-null   object \n",
      " 10  Outlet_Type                8523 non-null   object \n",
      " 11  Item_Outlet_Sales          8523 non-null   float64\n",
      "dtypes: float64(4), int64(1), object(7)\n",
      "memory usage: 799.2+ KB\n"
     ]
    }
   ],
   "source": [
    "import pandas as pd\n",
    "data=pd.read_csv(\"C:/Users/venky kishore/Downloads/Train.csv\")\n",
    "data.head()\n",
    "data.info()\n",
    "data.drop(['Item_Identifier','Item_Fat_Content','Item_Visibility','Item_Type','Item_MRP','Outlet_Identifier','Outlet_Establishment_Year','Outlet_Size','Outlet_Location_Type','Outlet_Type'],axis=1,inplace=True)"
   ]
  },
  {
   "cell_type": "code",
   "execution_count": 2,
   "id": "adc60311",
   "metadata": {},
   "outputs": [
    {
     "data": {
      "text/html": [
       "<div>\n",
       "<style scoped>\n",
       "    .dataframe tbody tr th:only-of-type {\n",
       "        vertical-align: middle;\n",
       "    }\n",
       "\n",
       "    .dataframe tbody tr th {\n",
       "        vertical-align: top;\n",
       "    }\n",
       "\n",
       "    .dataframe thead th {\n",
       "        text-align: right;\n",
       "    }\n",
       "</style>\n",
       "<table border=\"1\" class=\"dataframe\">\n",
       "  <thead>\n",
       "    <tr style=\"text-align: right;\">\n",
       "      <th></th>\n",
       "      <th>Item_Weight</th>\n",
       "      <th>Item_Visibility</th>\n",
       "      <th>Item_MRP</th>\n",
       "      <th>Outlet_Establishment_Year</th>\n",
       "      <th>Item_Outlet_Sales</th>\n",
       "    </tr>\n",
       "  </thead>\n",
       "  <tbody>\n",
       "    <tr>\n",
       "      <th>count</th>\n",
       "      <td>7060.000000</td>\n",
       "      <td>8523.000000</td>\n",
       "      <td>8523.000000</td>\n",
       "      <td>8523.000000</td>\n",
       "      <td>8523.000000</td>\n",
       "    </tr>\n",
       "    <tr>\n",
       "      <th>mean</th>\n",
       "      <td>12.857645</td>\n",
       "      <td>0.066132</td>\n",
       "      <td>140.992782</td>\n",
       "      <td>1997.831867</td>\n",
       "      <td>2181.288914</td>\n",
       "    </tr>\n",
       "    <tr>\n",
       "      <th>std</th>\n",
       "      <td>4.643456</td>\n",
       "      <td>0.051598</td>\n",
       "      <td>62.275067</td>\n",
       "      <td>8.371760</td>\n",
       "      <td>1706.499616</td>\n",
       "    </tr>\n",
       "    <tr>\n",
       "      <th>min</th>\n",
       "      <td>4.555000</td>\n",
       "      <td>0.000000</td>\n",
       "      <td>31.290000</td>\n",
       "      <td>1985.000000</td>\n",
       "      <td>33.290000</td>\n",
       "    </tr>\n",
       "    <tr>\n",
       "      <th>25%</th>\n",
       "      <td>8.773750</td>\n",
       "      <td>0.026989</td>\n",
       "      <td>93.826500</td>\n",
       "      <td>1987.000000</td>\n",
       "      <td>834.247400</td>\n",
       "    </tr>\n",
       "    <tr>\n",
       "      <th>50%</th>\n",
       "      <td>12.600000</td>\n",
       "      <td>0.053931</td>\n",
       "      <td>143.012800</td>\n",
       "      <td>1999.000000</td>\n",
       "      <td>1794.331000</td>\n",
       "    </tr>\n",
       "    <tr>\n",
       "      <th>75%</th>\n",
       "      <td>16.850000</td>\n",
       "      <td>0.094585</td>\n",
       "      <td>185.643700</td>\n",
       "      <td>2004.000000</td>\n",
       "      <td>3101.296400</td>\n",
       "    </tr>\n",
       "    <tr>\n",
       "      <th>max</th>\n",
       "      <td>21.350000</td>\n",
       "      <td>0.328391</td>\n",
       "      <td>266.888400</td>\n",
       "      <td>2009.000000</td>\n",
       "      <td>13086.964800</td>\n",
       "    </tr>\n",
       "  </tbody>\n",
       "</table>\n",
       "</div>"
      ],
      "text/plain": [
       "       Item_Weight  Item_Visibility     Item_MRP  Outlet_Establishment_Year  \\\n",
       "count  7060.000000      8523.000000  8523.000000                8523.000000   \n",
       "mean     12.857645         0.066132   140.992782                1997.831867   \n",
       "std       4.643456         0.051598    62.275067                   8.371760   \n",
       "min       4.555000         0.000000    31.290000                1985.000000   \n",
       "25%       8.773750         0.026989    93.826500                1987.000000   \n",
       "50%      12.600000         0.053931   143.012800                1999.000000   \n",
       "75%      16.850000         0.094585   185.643700                2004.000000   \n",
       "max      21.350000         0.328391   266.888400                2009.000000   \n",
       "\n",
       "       Item_Outlet_Sales  \n",
       "count        8523.000000  \n",
       "mean         2181.288914  \n",
       "std          1706.499616  \n",
       "min            33.290000  \n",
       "25%           834.247400  \n",
       "50%          1794.331000  \n",
       "75%          3101.296400  \n",
       "max         13086.964800  "
      ]
     },
     "execution_count": 2,
     "metadata": {},
     "output_type": "execute_result"
    }
   ],
   "source": [
    "data.describe()"
   ]
  },
  {
   "cell_type": "code",
   "execution_count": 3,
   "id": "2db67d0f",
   "metadata": {},
   "outputs": [
    {
     "name": "stderr",
     "output_type": "stream",
     "text": [
      "F:\\Anaconda\\lib\\site-packages\\scipy\\stats\\morestats.py:1760: UserWarning: p-value may not be accurate for N > 5000.\n",
      "  warnings.warn(\"p-value may not be accurate for N > 5000.\")\n"
     ]
    },
    {
     "data": {
      "text/plain": [
       "ShapiroResult(statistic=0.9094116687774658, pvalue=0.0)"
      ]
     },
     "execution_count": 3,
     "metadata": {},
     "output_type": "execute_result"
    }
   ],
   "source": [
    "from scipy import stats\n",
    "stats.shapiro(data.Item_Outlet_Sales)"
   ]
  },
  {
   "cell_type": "code",
   "execution_count": 4,
   "id": "4e4c364e",
   "metadata": {},
   "outputs": [
    {
     "data": {
      "text/plain": [
       "ShapiroResult(statistic=nan, pvalue=1.0)"
      ]
     },
     "execution_count": 4,
     "metadata": {},
     "output_type": "execute_result"
    }
   ],
   "source": [
    "stats.shapiro(data.Item_Weight)"
   ]
  },
  {
   "cell_type": "code",
   "execution_count": 5,
   "id": "4c6c06b9",
   "metadata": {},
   "outputs": [],
   "source": [
    "import numpy as np\n",
    "import matplotlib.pyplot as plt\n",
    "\n"
   ]
  },
  {
   "cell_type": "code",
   "execution_count": 6,
   "id": "98a91feb",
   "metadata": {},
   "outputs": [
    {
     "data": {
      "text/plain": [
       "{'whiskers': [<matplotlib.lines.Line2D at 0x5616bce5e0>,\n",
       "  <matplotlib.lines.Line2D at 0x5616bce970>],\n",
       " 'caps': [<matplotlib.lines.Line2D at 0x5616bced30>,\n",
       "  <matplotlib.lines.Line2D at 0x5616bc8100>],\n",
       " 'boxes': [<matplotlib.lines.Line2D at 0x5616bce250>],\n",
       " 'medians': [<matplotlib.lines.Line2D at 0x5616bc8490>],\n",
       " 'fliers': [<matplotlib.lines.Line2D at 0x5616bc8820>],\n",
       " 'means': []}"
      ]
     },
     "execution_count": 6,
     "metadata": {},
     "output_type": "execute_result"
    },
    {
     "data": {
      "image/png": "[encoded data removed]",
      "text/plain": [
       "<Figure size 432x288 with 1 Axes>"
      ]
     },
     "metadata": {
      "needs_background": "light"
     },
     "output_type": "display_data"
    }
   ],
   "source": [
    "plt.boxplot(data.Item_Outlet_Sales)\n",
    "plt.boxplot(data.Item_Weight)"
   ]
  },
  {
   "cell_type": "code",
   "execution_count": 7,
   "id": "41570316",
   "metadata": {},
   "outputs": [
    {
     "data": {
      "text/plain": [
       "{'whiskers': [<matplotlib.lines.Line2D at 0x5616cb9e80>,\n",
       "  <matplotlib.lines.Line2D at 0x5616cc9280>,\n",
       "  <matplotlib.lines.Line2D at 0x5616cd7820>,\n",
       "  <matplotlib.lines.Line2D at 0x5616cd7bb0>],\n",
       " 'caps': [<matplotlib.lines.Line2D at 0x5616cc9610>,\n",
       "  <matplotlib.lines.Line2D at 0x5616cc99a0>,\n",
       "  <matplotlib.lines.Line2D at 0x5616cd7f40>,\n",
       "  <matplotlib.lines.Line2D at 0x5616ce0310>],\n",
       " 'boxes': [<matplotlib.lines.Line2D at 0x5616cb9ac0>,\n",
       "  <matplotlib.lines.Line2D at 0x5616cd7490>],\n",
       " 'medians': [<matplotlib.lines.Line2D at 0x5616cc9d30>,\n",
       "  <matplotlib.lines.Line2D at 0x5616ce06a0>],\n",
       " 'fliers': [<matplotlib.lines.Line2D at 0x5616cd7100>,\n",
       "  <matplotlib.lines.Line2D at 0x5616ce0a30>],\n",
       " 'means': []}"
      ]
     },
     "execution_count": 7,
     "metadata": {},
     "output_type": "execute_result"
    },
    {
     "data": {
      "image/png": "[encoded data removed]",
      "text/plain": [
       "<Figure size 432x288 with 1 Axes>"
      ]
     },
     "metadata": {
      "needs_background": "light"
     },
     "output_type": "display_data"
    }
   ],
   "source": [
    "plt.boxplot([data.Item_Outlet_Sales,data.Item_Weight])"
   ]
  },
  {
   "cell_type": "code",
   "execution_count": null,
   "id": "4470c0fe",
   "metadata": {},
   "outputs": [],
   "source": [
    "import numpy as np\n",
    "import matplotlib.pyplot as plt\n"
   ]
  },
  {
   "cell_type": "code",
   "execution_count": 13,
   "id": "dba0c0c9",
   "metadata": {},
   "outputs": [
    {
     "data": {
      "text/plain": [
       "{'whiskers': [<matplotlib.lines.Line2D at 0x560fbb6190>,\n",
       "  <matplotlib.lines.Line2D at 0x560fbb6400>],\n",
       " 'caps': [<matplotlib.lines.Line2D at 0x560fbb6790>,\n",
       "  <matplotlib.lines.Line2D at 0x560fbb6b20>],\n",
       " 'boxes': [<matplotlib.lines.Line2D at 0x560fbaadc0>],\n",
       " 'medians': [<matplotlib.lines.Line2D at 0x560fbb6eb0>],\n",
       " 'fliers': [<matplotlib.lines.Line2D at 0x560fbc0280>],\n",
       " 'means': []}"
      ]
     },
     "execution_count": 13,
     "metadata": {},
     "output_type": "execute_result"
    },
    {
     "data": {
      "image/png": "[encoded data removed]",
      "text/plain": [
       "<Figure size 432x288 with 1 Axes>"
      ]
     },
     "metadata": {
      "needs_background": "light"
     },
     "output_type": "display_data"
    }
   ],
   "source": [
    "plt.boxplot(data.Item_Outlet_Sales)"
   ]
  },
  {
   "cell_type": "code",
   "execution_count": 15,
   "id": "b1cbd7f7",
   "metadata": {},
   "outputs": [
    {
     "data": {
      "text/plain": [
       "{'whiskers': [<matplotlib.lines.Line2D at 0x560fc19190>,\n",
       "  <matplotlib.lines.Line2D at 0x560fc19520>],\n",
       " 'caps': [<matplotlib.lines.Line2D at 0x560fc198b0>,\n",
       "  <matplotlib.lines.Line2D at 0x560fc19c40>],\n",
       " 'boxes': [<matplotlib.lines.Line2D at 0x560fc09dc0>],\n",
       " 'medians': [<matplotlib.lines.Line2D at 0x560fc19fd0>],\n",
       " 'fliers': [<matplotlib.lines.Line2D at 0x560fc263a0>],\n",
       " 'means': []}"
      ]
     },
     "execution_count": 15,
     "metadata": {},
     "output_type": "execute_result"
    },
    {
     "data": {
      "image/png": "[encoded data removed]",
      "text/plain": [
       "<Figure size 432x288 with 1 Axes>"
      ]
     },
     "metadata": {
      "needs_background": "light"
     },
     "output_type": "display_data"
    }
   ],
   "source": [
    "plt.boxplot(data.Item_Weight)\n"
   ]
  },
  {
   "cell_type": "code",
   "execution_count": 24,
   "id": "408017a6",
   "metadata": {},
   "outputs": [
    {
     "name": "stdout",
     "output_type": "stream",
     "text": [
      "1463\n"
     ]
    }
   ],
   "source": [
    "print(data.Item_Weight.isnull().sum())"
   ]
  },
  {
   "cell_type": "code",
   "execution_count": 26,
   "id": "7caac098",
   "metadata": {},
   "outputs": [],
   "source": [
    "data.Item_Weight.fillna(12.857645,inplace=True)"
   ]
  },
  {
   "cell_type": "code",
   "execution_count": 16,
   "id": "8ad2c90a",
   "metadata": {},
   "outputs": [
    {
     "name": "stdout",
     "output_type": "stream",
     "text": [
      "     Item_Identifier  Item_Weight Item_Fat_Content  Item_Visibility  \\\n",
      "0              FDA15         9.30          Low Fat         0.016047   \n",
      "1              DRC01         5.92          Regular         0.019278   \n",
      "2              FDN15        17.50          Low Fat         0.016760   \n",
      "3              FDX07        19.20          Regular         0.000000   \n",
      "4              NCD19         8.93          Low Fat         0.000000   \n",
      "...              ...          ...              ...              ...   \n",
      "6813           FDY31         5.98          Low Fat         0.043809   \n",
      "6814           FDJ57          NaN          Regular         0.000000   \n",
      "6815           FDV51        16.35          Low Fat         0.032671   \n",
      "6816           DRG36        14.15          Low Fat         0.095378   \n",
      "6817           DRF13        12.10          Low Fat         0.000000   \n",
      "\n",
      "                  Item_Type  Item_MRP Outlet_Identifier  \\\n",
      "0                     Dairy  249.8092            OUT049   \n",
      "1               Soft Drinks   48.2692            OUT018   \n",
      "2                      Meat  141.6180            OUT049   \n",
      "3     Fruits and Vegetables  182.0950            OUT010   \n",
      "4                 Household   53.8614            OUT013   \n",
      "...                     ...       ...               ...   \n",
      "6813  Fruits and Vegetables  146.8418            OUT017   \n",
      "6814                Seafood  184.3582            OUT019   \n",
      "6815                   Meat  165.4842            OUT018   \n",
      "6816            Soft Drinks  170.5106            OUT046   \n",
      "6817            Soft Drinks  145.1444            OUT013   \n",
      "\n",
      "      Outlet_Establishment_Year Outlet_Size Outlet_Location_Type  \\\n",
      "0                          1999      Medium               Tier 1   \n",
      "1                          2009      Medium               Tier 3   \n",
      "2                          1999      Medium               Tier 1   \n",
      "3                          1998         NaN               Tier 3   \n",
      "4                          1987        High               Tier 3   \n",
      "...                         ...         ...                  ...   \n",
      "6813                       2007         NaN               Tier 2   \n",
      "6814                       1985       Small               Tier 1   \n",
      "6815                       2009      Medium               Tier 3   \n",
      "6816                       1997       Small               Tier 1   \n",
      "6817                       1987        High               Tier 3   \n",
      "\n",
      "            Outlet_Type  Item_Outlet_Sales  \n",
      "0     Supermarket Type1          3735.1380  \n",
      "1     Supermarket Type2           443.4228  \n",
      "2     Supermarket Type1          2097.2700  \n",
      "3         Grocery Store           732.3800  \n",
      "4     Supermarket Type1           994.7052  \n",
      "...                 ...                ...  \n",
      "6813  Supermarket Type1          1765.7016  \n",
      "6814      Grocery Store           185.7582  \n",
      "6815  Supermarket Type2          1492.0578  \n",
      "6816  Supermarket Type1          2395.5484  \n",
      "6817  Supermarket Type1          3338.3212  \n",
      "\n",
      "[6818 rows x 12 columns]\n"
     ]
    }
   ],
   "source": [
    "train=data.iloc[0:6818]\n",
    "print(train)"
   ]
  },
  {
   "cell_type": "code",
   "execution_count": 17,
   "id": "8bc524d9",
   "metadata": {},
   "outputs": [
    {
     "name": "stdout",
     "output_type": "stream",
     "text": [
      "     Item_Identifier  Item_Weight Item_Fat_Content  Item_Visibility  \\\n",
      "6818           NCJ54        9.895          Low Fat         0.060189   \n",
      "6819           NCP42        8.510          Low Fat         0.016136   \n",
      "6820           NCF30       17.000               LF         0.126220   \n",
      "6821           FDY44          NaN          Regular         0.024286   \n",
      "6822           FDX09        9.000          Low Fat         0.065351   \n",
      "...              ...          ...              ...              ...   \n",
      "8518           FDF22        6.865          Low Fat         0.056783   \n",
      "8519           FDS36        8.380          Regular         0.046982   \n",
      "8520           NCJ29       10.600          Low Fat         0.035186   \n",
      "8521           FDN46        7.210          Regular         0.145221   \n",
      "8522           DRG01       14.800          Low Fat         0.044878   \n",
      "\n",
      "                  Item_Type  Item_MRP Outlet_Identifier  \\\n",
      "6818              Household  233.0642            OUT045   \n",
      "6819              Household  195.6478            OUT049   \n",
      "6820              Household  126.7362            OUT035   \n",
      "6821  Fruits and Vegetables  194.7110            OUT027   \n",
      "6822            Snack Foods  175.4370            OUT049   \n",
      "...                     ...       ...               ...   \n",
      "8518            Snack Foods  214.5218            OUT013   \n",
      "8519           Baking Goods  108.1570            OUT045   \n",
      "8520     Health and Hygiene   85.1224            OUT035   \n",
      "8521            Snack Foods  103.1332            OUT018   \n",
      "8522            Soft Drinks   75.4670            OUT046   \n",
      "\n",
      "      Outlet_Establishment_Year Outlet_Size Outlet_Location_Type  \\\n",
      "6818                       2002         NaN               Tier 2   \n",
      "6819                       1999      Medium               Tier 1   \n",
      "6820                       2004       Small               Tier 2   \n",
      "6821                       1985      Medium               Tier 3   \n",
      "6822                       1999      Medium               Tier 1   \n",
      "...                         ...         ...                  ...   \n",
      "8518                       1987        High               Tier 3   \n",
      "8519                       2002         NaN               Tier 2   \n",
      "8520                       2004       Small               Tier 2   \n",
      "8521                       2009      Medium               Tier 3   \n",
      "8522                       1997       Small               Tier 1   \n",
      "\n",
      "            Outlet_Type  Item_Outlet_Sales  \n",
      "6818  Supermarket Type1          6041.4692  \n",
      "6819  Supermarket Type1          4262.4516  \n",
      "6820  Supermarket Type1          1258.3620  \n",
      "6821  Supermarket Type3          5892.3300  \n",
      "6822  Supermarket Type1          3175.8660  \n",
      "...                 ...                ...  \n",
      "8518  Supermarket Type1          2778.3834  \n",
      "8519  Supermarket Type1           549.2850  \n",
      "8520  Supermarket Type1          1193.1136  \n",
      "8521  Supermarket Type2          1845.5976  \n",
      "8522  Supermarket Type1           765.6700  \n",
      "\n",
      "[1705 rows x 12 columns]\n"
     ]
    }
   ],
   "source": [
    "test=data.iloc[6818:8523]\n",
    "print(test)"
   ]
  },
  {
   "cell_type": "code",
   "execution_count": 18,
   "id": "f03f6c46",
   "metadata": {},
   "outputs": [
    {
     "data": {
      "text/plain": [
       "(6818, 12)"
      ]
     },
     "execution_count": 18,
     "metadata": {},
     "output_type": "execute_result"
    }
   ],
   "source": [
    "train.shape\n"
   ]
  },
  {
   "cell_type": "code",
   "execution_count": 19,
   "id": "70390192",
   "metadata": {},
   "outputs": [
    {
     "data": {
      "text/plain": [
       "(1705, 12)"
      ]
     },
     "execution_count": 19,
     "metadata": {},
     "output_type": "execute_result"
    }
   ],
   "source": [
    "test.shape"
   ]
  },
  {
   "cell_type": "code",
   "execution_count": 21,
   "id": "f1cc2213",
   "metadata": {},
   "outputs": [
    {
     "data": {
      "text/plain": [
       "<AxesSubplot:xlabel='Item_Weight', ylabel='Item_Outlet_Sales'>"
      ]
     },
     "execution_count": 21,
     "metadata": {},
     "output_type": "execute_result"
    },
    {
     "data": {
      "image/png": "[encoded data removed]",
      "text/plain": [
       "<Figure size 432x288 with 1 Axes>"
      ]
     },
     "metadata": {
      "needs_background": "light"
     },
     "output_type": "display_data"
    }
   ],
   "source": [
    "import seaborn as sns\n",
    "sns.scatterplot(x='Item_Weight',y='Item_Outlet_Sales',data=data)"
   ]
  },
  {
   "cell_type": "code",
   "execution_count": 27,
   "id": "bb93b97e",
   "metadata": {},
   "outputs": [
    {
     "name": "stdout",
     "output_type": "stream",
     "text": [
      "(0.011549999492267485, 0.28634399074200745)\n"
     ]
    }
   ],
   "source": [
    "from scipy.stats import pearsonr\n",
    "strength=pearsonr(data.Item_Weight,data.Item_Outlet_Sales)\n",
    "print(strength)"
   ]
  },
  {
   "cell_type": "code",
   "execution_count": null,
   "id": "b5ba2c61",
   "metadata": {},
   "outputs": [],
   "source": []
  }
 ],
 "metadata": {
  "kernelspec": {
   "display_name": "Python 3 (ipykernel)",
   "language": "python",
   "name": "python3"
  },
  "language_info": {
   "codemirror_mode": {
    "name": "ipython",
    "version": 3
   },
   "file_extension": ".py",
   "mimetype": "text/x-python",
   "name": "python",
   "nbconvert_exporter": "python",
   "pygments_lexer": "ipython3",
   "version": "3.9.7"
  }
 },
 "nbformat": 4,
 "nbformat_minor": 5
}
